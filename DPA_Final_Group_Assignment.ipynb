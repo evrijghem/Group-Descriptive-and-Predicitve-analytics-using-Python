{
 "cells": [
  {
   "cell_type": "markdown",
   "metadata": {},
   "source": [
    "# DSC Donor Prediction Case Study\n",
    "Team: Abdon Ahuile, Stephanie Beyer Diaz, Philipp Borchert, Subhamoy Dam, Edward Vrijghem"
   ]
  },
  {
   "cell_type": "markdown",
   "metadata": {},
   "source": [
    "This Notebook file shows the Data Preparation, Model Selection and final model Display based on the datasets provided. At the end, we include an Appendix with additional data exploration realized."
   ]
  },
  {
   "cell_type": "markdown",
   "metadata": {},
   "source": [
    "# Data Preparation"
   ]
  },
  {
   "cell_type": "code",
   "execution_count": 158,
   "metadata": {},
   "outputs": [],
   "source": [
    "import pandas as pd\n",
    "import numpy as np\n",
    "from matplotlib        import pyplot\n",
    "from matplotlib.pyplot import figure\n",
    "\n",
    "import warnings\n",
    "warnings.filterwarnings(\"ignore\")"
   ]
  },
  {
   "cell_type": "code",
   "execution_count": 159,
   "metadata": {},
   "outputs": [],
   "source": [
    "#Importing CSV files\n",
    "path = \"C:/temp/DSC_Project/Data/\"\n",
    "\n",
    "gifts        = pd.read_csv(path + \"gifts.csv\", sep=\";\")\n",
    "donors       = pd.read_csv(path + \"donors.csv\", sep=\";\")\n",
    "camp13       = pd.read_csv(path + \"campaign20130411.csv\", sep=\";\")\n",
    "camp14       = pd.read_csv(path + \"campaign20140115.csv\", sep=\";\")\n",
    "region_codes = pd.read_csv(path + \"region_codes_belgium.csv\", sep=\";\")"
   ]
  },
  {
   "cell_type": "code",
   "execution_count": 160,
   "metadata": {},
   "outputs": [
    {
     "data": {
      "text/plain": [
       "32884.52"
      ]
     },
     "execution_count": 160,
     "metadata": {},
     "output_type": "execute_result"
    }
   ],
   "source": [
    "#Inspecting total train set amount\n",
    "camp13.amount.sum()"
   ]
  },
  {
   "cell_type": "markdown",
   "metadata": {},
   "source": [
    "# Preparing the data"
   ]
  },
  {
   "cell_type": "markdown",
   "metadata": {},
   "source": [
    "Variables, in no particular order:\n",
    "1. Language: Dummy variable (1 for N, 0 for F)\n",
    "2. Amount: From 2013 campaign data, used to created target variable 'y'\n",
    "3. Max_gift: Maximum amount from gifts data, per donor id\n",
    "4. Min_gift: Minimum amount from gifts data, per donor id\n",
    "5. Mean_gift: Average amount from gifts data, per donor id\n",
    "6. First_gift: First gift year, later displayed as relative difference to 2013\n",
    "7. Last_gift: Last gift year, later displayed as relative difference to 2013\n",
    "8. Avg_datediff: Average days between gifts per donor id, calculated as (Last gift date - first gift date)/frequency\n",
    "9. No_camp_flag: Dummy varible (1 for donors who donated during a campaign, 0 for donors who donated during no campaign)\n",
    "10. Recency: Number of days since last gift per donor id, with baseline date 2013-01-01\n",
    "11. Frequency: Number of gifts per donor id, used to create quartiles \n",
    "12. Monetary: Total gift amount per donor id\n",
    "13. f_quartile_x: Quartiles for frequency variable, with x being Low, Lowest, Medium or High (dropped)\n",
    "14. m_quartile_x: Quartiles for monetary variable, with x being Low, Lowest, Medium or High (dropped)\n",
    "15. r_quartile_x: Quartiles for recency variable, with x being Low, Lowest, Medium or High (dropped)\n",
    "16. Province: Provinces per zipcode, later used to create dummy variables (prov_X, where X is the province name)\n",
    "17. Donor_age: Difference in years between first and last gift\n",
    "18. Gender: gender per donor id, later used to create dummy variables (gender_X, where X is Couple, Female, Male or SoHo)\n",
    "19. y: target variable (based on second variable amount>35)"
   ]
  },
  {
   "cell_type": "code",
   "execution_count": 161,
   "metadata": {},
   "outputs": [],
   "source": [
    "from datetime import datetime\n",
    "\n",
    "#Cleaning Gifts date column by transforming to_datetime and extracting year\n",
    "gifts[\"date\"] = pd.to_datetime(gifts[\"date\"], format=\"%d/%m/%Y\")\n",
    "gifts['year'] = gifts['date'].dt.year"
   ]
  },
  {
   "cell_type": "code",
   "execution_count": 162,
   "metadata": {},
   "outputs": [],
   "source": [
    "from pandasql import sqldf\n",
    "\n",
    "pysqldf = lambda q: sqldf(q, globals())\n",
    "\n",
    "#Creating new gift variables using sql, based on RFM analysis\n",
    "gifts_rfm = pysqldf(\"\"\"\n",
    "SELECT g.donorid,min('2013-01-01' - g.date) as recency,count(g.donorid) as frequency,sum(g.amount) as monetary\n",
    "FROM gifts g\n",
    "where g.date<'2013-01-01'\n",
    "group by 1\n",
    "\"\"\")\n",
    "\n",
    "#Creating quartiles for RFM variables\n",
    "gifts_rfm[\"r_quartile\"] = pd.qcut(gifts_rfm['recency'], 4, ['1','2','3','4'])\n",
    "gifts_rfm[\"m_quartile\"] = pd.qcut(gifts_rfm['monetary'], 4, ['4','3','2','1'])\n",
    "\n",
    "gifts_rfm[\"f_quartile\"] = 0\n",
    "gifts_rfm.loc[gifts_rfm[\"frequency\"] <=1,\"f_quartile\"] = \"4\"\n",
    "gifts_rfm.loc[(gifts_rfm[\"frequency\"] <=2) & (gifts_rfm[\"frequency\"] >1),\"f_quartile\"] = \"3\"\n",
    "gifts_rfm.loc[(gifts_rfm[\"frequency\"] <=5) & (gifts_rfm[\"frequency\"] >2),\"f_quartile\"] = \"2\"\n",
    "gifts_rfm.loc[gifts_rfm[\"frequency\"] >5,\"f_quartile\"] = \"1\""
   ]
  },
  {
   "cell_type": "code",
   "execution_count": 163,
   "metadata": {},
   "outputs": [],
   "source": [
    "# RFM_Score variable was created as segmentation, but ultimately not used\n",
    "\n",
    "# gifts_rfm['RFM_Score'] = gifts_rfm.r_quartile.astype(str)+ gifts_rfm.f_quartile.astype(str) + gifts_rfm.m_quartile.astype(str)\n",
    "# gifts_rfm.loc[gifts_rfm['RFM_Score']=='111','RFM_Score'] = 1\n",
    "# gifts_rfm.loc[gifts_rfm['RFM_Score']!=1,'RFM_Score'] = 0"
   ]
  },
  {
   "cell_type": "code",
   "execution_count": 164,
   "metadata": {},
   "outputs": [
    {
     "data": {
      "text/html": [
       "<div>\n",
       "<style scoped>\n",
       "    .dataframe tbody tr th:only-of-type {\n",
       "        vertical-align: middle;\n",
       "    }\n",
       "\n",
       "    .dataframe tbody tr th {\n",
       "        vertical-align: top;\n",
       "    }\n",
       "\n",
       "    .dataframe thead th {\n",
       "        text-align: right;\n",
       "    }\n",
       "</style>\n",
       "<table border=\"1\" class=\"dataframe\">\n",
       "  <thead>\n",
       "    <tr style=\"text-align: right;\">\n",
       "      <th></th>\n",
       "      <th>donorID</th>\n",
       "      <th>recency</th>\n",
       "      <th>frequency</th>\n",
       "      <th>monetary</th>\n",
       "      <th>r_quartile</th>\n",
       "      <th>m_quartile</th>\n",
       "      <th>f_quartile</th>\n",
       "      <th>f_quartile_Low</th>\n",
       "      <th>f_quartile_Lowest</th>\n",
       "      <th>f_quartile_Medium</th>\n",
       "      <th>m_quartile_Low</th>\n",
       "      <th>m_quartile_Lowest</th>\n",
       "      <th>m_quartile_Medium</th>\n",
       "      <th>r_quartile_Low</th>\n",
       "      <th>r_quartile_Lowest</th>\n",
       "      <th>r_quartile_Medium</th>\n",
       "    </tr>\n",
       "  </thead>\n",
       "  <tbody>\n",
       "    <tr>\n",
       "      <th>0</th>\n",
       "      <td>100001</td>\n",
       "      <td>7</td>\n",
       "      <td>12</td>\n",
       "      <td>178.49</td>\n",
       "      <td>Medium</td>\n",
       "      <td>High</td>\n",
       "      <td>High</td>\n",
       "      <td>0</td>\n",
       "      <td>0</td>\n",
       "      <td>0</td>\n",
       "      <td>0</td>\n",
       "      <td>0</td>\n",
       "      <td>0</td>\n",
       "      <td>0</td>\n",
       "      <td>0</td>\n",
       "      <td>1</td>\n",
       "    </tr>\n",
       "    <tr>\n",
       "      <th>1</th>\n",
       "      <td>100002</td>\n",
       "      <td>3</td>\n",
       "      <td>1</td>\n",
       "      <td>20.00</td>\n",
       "      <td>Lowest</td>\n",
       "      <td>Lowest</td>\n",
       "      <td>Lowest</td>\n",
       "      <td>0</td>\n",
       "      <td>1</td>\n",
       "      <td>0</td>\n",
       "      <td>0</td>\n",
       "      <td>1</td>\n",
       "      <td>0</td>\n",
       "      <td>0</td>\n",
       "      <td>1</td>\n",
       "      <td>0</td>\n",
       "    </tr>\n",
       "    <tr>\n",
       "      <th>2</th>\n",
       "      <td>100003</td>\n",
       "      <td>1</td>\n",
       "      <td>4</td>\n",
       "      <td>15.00</td>\n",
       "      <td>Lowest</td>\n",
       "      <td>Lowest</td>\n",
       "      <td>Medium</td>\n",
       "      <td>0</td>\n",
       "      <td>0</td>\n",
       "      <td>1</td>\n",
       "      <td>0</td>\n",
       "      <td>1</td>\n",
       "      <td>0</td>\n",
       "      <td>0</td>\n",
       "      <td>1</td>\n",
       "      <td>0</td>\n",
       "    </tr>\n",
       "    <tr>\n",
       "      <th>3</th>\n",
       "      <td>100004</td>\n",
       "      <td>8</td>\n",
       "      <td>26</td>\n",
       "      <td>716.22</td>\n",
       "      <td>Medium</td>\n",
       "      <td>High</td>\n",
       "      <td>High</td>\n",
       "      <td>0</td>\n",
       "      <td>0</td>\n",
       "      <td>0</td>\n",
       "      <td>0</td>\n",
       "      <td>0</td>\n",
       "      <td>0</td>\n",
       "      <td>0</td>\n",
       "      <td>0</td>\n",
       "      <td>1</td>\n",
       "    </tr>\n",
       "    <tr>\n",
       "      <th>4</th>\n",
       "      <td>100005</td>\n",
       "      <td>1</td>\n",
       "      <td>4</td>\n",
       "      <td>14.96</td>\n",
       "      <td>Lowest</td>\n",
       "      <td>Lowest</td>\n",
       "      <td>Medium</td>\n",
       "      <td>0</td>\n",
       "      <td>0</td>\n",
       "      <td>1</td>\n",
       "      <td>0</td>\n",
       "      <td>1</td>\n",
       "      <td>0</td>\n",
       "      <td>0</td>\n",
       "      <td>1</td>\n",
       "      <td>0</td>\n",
       "    </tr>\n",
       "  </tbody>\n",
       "</table>\n",
       "</div>"
      ],
      "text/plain": [
       "   donorID  recency  frequency  monetary r_quartile m_quartile f_quartile  \\\n",
       "0   100001        7         12    178.49     Medium       High       High   \n",
       "1   100002        3          1     20.00     Lowest     Lowest     Lowest   \n",
       "2   100003        1          4     15.00     Lowest     Lowest     Medium   \n",
       "3   100004        8         26    716.22     Medium       High       High   \n",
       "4   100005        1          4     14.96     Lowest     Lowest     Medium   \n",
       "\n",
       "   f_quartile_Low  f_quartile_Lowest  f_quartile_Medium  m_quartile_Low  \\\n",
       "0               0                  0                  0               0   \n",
       "1               0                  1                  0               0   \n",
       "2               0                  0                  1               0   \n",
       "3               0                  0                  0               0   \n",
       "4               0                  0                  1               0   \n",
       "\n",
       "   m_quartile_Lowest  m_quartile_Medium  r_quartile_Low  r_quartile_Lowest  \\\n",
       "0                  0                  0               0                  0   \n",
       "1                  1                  0               0                  1   \n",
       "2                  1                  0               0                  1   \n",
       "3                  0                  0               0                  0   \n",
       "4                  1                  0               0                  1   \n",
       "\n",
       "   r_quartile_Medium  \n",
       "0                  1  \n",
       "1                  0  \n",
       "2                  0  \n",
       "3                  1  \n",
       "4                  0  "
      ]
     },
     "execution_count": 164,
     "metadata": {},
     "output_type": "execute_result"
    }
   ],
   "source": [
    "#Transforming RFM quartiles into dummy variables\n",
    "dictionary = {\"1\": \"High\", \"2\": \"Medium\", \"3\": \"Low\", \"4\": \"Lowest\"}\n",
    "gifts_rfm = gifts_rfm.replace({\"f_quartile\": dictionary, \"m_quartile\": dictionary})\n",
    "dictionary = {\"1\": \"Lowest\", \"2\": \"Low\", \"3\": \"Medium\", \"4\": \"High\"}\n",
    "gifts_rfm = gifts_rfm.replace({\"r_quartile\": dictionary})\n",
    "gifts_rfm2 = pd.get_dummies(gifts_rfm[[\"f_quartile\",\"m_quartile\",\"r_quartile\"]],drop_first=True)\n",
    "\n",
    "gifts_rfm = pd.concat([gifts_rfm, gifts_rfm2], axis=1, join='inner')\n",
    "gifts_rfm.head()"
   ]
  },
  {
   "cell_type": "code",
   "execution_count": 165,
   "metadata": {},
   "outputs": [],
   "source": [
    "#Outlier function definition: limiting them with a threshold of 3 x z-score\n",
    "\n",
    "outliers=[]\n",
    "def detect_outlier(data_1,col1):\n",
    "    \n",
    "    threshold = 3\n",
    "    mean_1    = np.mean(data_1[col1])\n",
    "    std_1     = np.std(data_1[col1])\n",
    "    \n",
    "    for y in data_1[col1]:\n",
    "        z_score= (y - mean_1)/std_1 \n",
    "        if np.abs(z_score) > threshold:\n",
    "            outliers.append(y)\n",
    "    return outliers\n",
    "\n",
    "#Select minimum outlier\n",
    "min_amt = min(detect_outlier(gifts,\"amount\"))\n",
    "\n",
    "#replace outliers bigger than the threshold value (minimum outlier) by the minimum outlier\n",
    "gifts.loc[gifts['amount']>min_amt,'amount']=min_amt"
   ]
  },
  {
   "cell_type": "code",
   "execution_count": 166,
   "metadata": {},
   "outputs": [],
   "source": [
    "#Remove the region column, since we'll only be using provinces\n",
    "donors = donors.drop(columns=[\"region\"])"
   ]
  },
  {
   "cell_type": "code",
   "execution_count": 167,
   "metadata": {},
   "outputs": [],
   "source": [
    "#Using sql to create a test (dsc) and training (dsc_train) set by adding variables from the gifts and donor table\n",
    "pysqldf = lambda q: sqldf(q, globals())\n",
    "\n",
    "dsc_train = pysqldf(\"\"\"\n",
    "SELECT c.donorid,d.gender,d.language,d.zipcode,sum(c.amount) as amount\n",
    "        ,max_gift, min_gift, mean_gift, first_gift, last_gift\n",
    "        ,avg_datediff, no_camp_flag\n",
    "FROM camp13 c\n",
    "    left join donors d on d.donorid=c.donorid \n",
    "    left join (select donorid,max(gf.amount) as max_gift, min(gf.amount) as min_gift,\n",
    "        avg(gf.amount) as mean_gift, min(gf.year) as first_gift,max(gf.year) as last_gift,\n",
    "        ((max(gf.date)-min(gf.date))*365)/count(gf.year) as avg_datediff,\n",
    "        min(case when gf.campid=0 then 1 else 0 end) no_camp_flag from gifts gf \n",
    "            where gf.date<'2013-01-01' group by 1) gf2 on gf2.donorid=c.donorid\n",
    "group by 1\n",
    "\"\"\")\n",
    "\n",
    "dsc = pysqldf(\"\"\"\n",
    "SELECT c.donorid,d.gender,d.language,d.zipcode,sum(c.amount) as amount\n",
    "        ,max_gift, min_gift, mean_gift, first_gift, last_gift\n",
    "        ,avg_datediff, no_camp_flag\n",
    "FROM camp14 c\n",
    "    left join donors d on d.donorid=c.donorid \n",
    "    left join (select donorid,max(gf.amount) as max_gift, min(gf.amount) as min_gift,\n",
    "        avg(gf.amount) as mean_gift, min(gf.year) as first_gift,max(gf.year) as last_gift,\n",
    "        ((max(gf.date)-min(gf.date))*365)/count(gf.year) as avg_datediff,\n",
    "        min(case when gf.campid=0 then 1 else 0 end) no_camp_flag from gifts gf \n",
    "            where gf.date<'2013-01-01' group by 1) gf2 on gf2.donorid=c.donorid\n",
    "group by 1\n",
    "\"\"\")"
   ]
  },
  {
   "cell_type": "code",
   "execution_count": 168,
   "metadata": {},
   "outputs": [],
   "source": [
    "#Adding RFM variables to train and test sets\n",
    "dsc = pd.merge(dsc,gifts_rfm,how='left',left_on='donorID',right_on='donorID')\n",
    "dsc_train = pd.merge(dsc_train,gifts_rfm,how='left',left_on='donorID',right_on='donorID')"
   ]
  },
  {
   "cell_type": "code",
   "execution_count": 169,
   "metadata": {},
   "outputs": [],
   "source": [
    "#Cleaning Zip Codes\n",
    "\n",
    "#Region_codes table create start and end bracket\n",
    "region_codes[[\"Zip_start\", \"Zip_end\"]] = region_codes[\"Zipcode\"].str.split(\"?\", n = 2, expand = True)\n",
    "region_codes = region_codes.drop(columns=[\"Zipcode\"])\n",
    "region_codes.Zip_start = region_codes.Zip_start.astype(int)\n",
    "region_codes.Zip_end = region_codes.Zip_end.astype(int)\n",
    "\n",
    "#Convert character values to numeric\n",
    "dsc[\"zipcode\"] = dsc[\"zipcode\"].str.replace('[^0-9]', \"0\")\n",
    "dsc_train[\"zipcode\"] = dsc_train[\"zipcode\"].str.replace('[^0-9]', \"0\")\n",
    "\n",
    "#Replacing NAs with 0s\n",
    "dsc.loc[dsc[\"zipcode\"].isna(),\"zipcode\"] = 0\n",
    "dsc_train.loc[dsc_train[\"zipcode\"].isna(),\"zipcode\"] = 0"
   ]
  },
  {
   "cell_type": "code",
   "execution_count": 170,
   "metadata": {},
   "outputs": [],
   "source": [
    "#Assign column Province to train and test sets, rather than using zipcode\n",
    "\n",
    "#Create aux table with unique zipcode and province names\n",
    "aux = pysqldf(\"\"\"\n",
    "SELECT d.zipcode,r.province\n",
    "FROM dsc d\n",
    "JOIN region_codes r\n",
    "WHERE d.zipcode between r.zip_start and r.zip_end\n",
    "GROUP BY 1\n",
    "    UNION\n",
    "        SELECT d.zipcode,r.province\n",
    "        FROM dsc_train d\n",
    "        JOIN region_codes r\n",
    "        WHERE d.zipcode between r.zip_start and r.zip_end\n",
    "        GROUP BY 1\n",
    "\"\"\")\n",
    "\n",
    "#Using pandas merge to add province columns to train and test set\n",
    "dsc = pd.merge(dsc,aux,how='left',left_on='zipcode',right_on='zipcode')\n",
    "dsc_train = pd.merge(dsc_train,aux,how='left',left_on='zipcode',right_on='zipcode')\n",
    "\n",
    "#replacing NA values with \"Missing\"\n",
    "dsc.loc[dsc[\"Province\"].isna(),\"Province\"] = \"Missing\"\n",
    "dsc_train.loc[dsc_train[\"Province\"].isna(),\"Province\"] = \"Missing\""
   ]
  },
  {
   "cell_type": "code",
   "execution_count": 171,
   "metadata": {},
   "outputs": [],
   "source": [
    "#Creating dummies for the province variable in both tables\n",
    "prov_set = pd.get_dummies(dsc[\"Province\"])\n",
    "prov_t_set = pd.get_dummies(dsc_train[\"Province\"])\n",
    "\n",
    "#Adding prefixes to dummy variables to identify them more easily\n",
    "prov_set = prov_set.add_prefix('prov_')\n",
    "prov_t_set = prov_t_set.add_prefix('prov_')\n",
    "\n",
    "#merge the province datatables with the dsc data tables\n",
    "dsc = pd.concat([dsc, prov_set], axis=1, join='inner')\n",
    "dsc_train = pd.concat([dsc_train, prov_t_set], axis=1, join='inner')"
   ]
  },
  {
   "cell_type": "code",
   "execution_count": 172,
   "metadata": {},
   "outputs": [],
   "source": [
    "#Clean DSC last_gift and first_gift column by replacing NAs with mean\n",
    "dsc.loc[dsc[\"last_gift\"].isna(),\"last_gift\"] = dsc.loc[dsc[\"last_gift\"].notna(),\"last_gift\"].mean()\n",
    "dsc[\"last_gift\"] = dsc[\"last_gift\"].astype(int)\n",
    "dsc_train.loc[dsc_train[\"last_gift\"].isna(),\"last_gift\"] = dsc_train.loc[dsc_train[\"last_gift\"].notna(),\"last_gift\"].mean()\n",
    "dsc_train[\"last_gift\"] = dsc_train[\"last_gift\"].astype(int)\n",
    "\n",
    "dsc.loc[dsc[\"first_gift\"].isna(),\"first_gift\"] = dsc.loc[dsc[\"first_gift\"].notna(),\"first_gift\"].mean()\n",
    "dsc[\"first_gift\"] = dsc[\"first_gift\"].astype(int)\n",
    "dsc_train.loc[dsc_train[\"first_gift\"].isna(),\"first_gift\"] = dsc_train.loc[dsc_train[\"first_gift\"].notna(),\"first_gift\"].mean()\n",
    "dsc_train[\"first_gift\"] = dsc_train[\"first_gift\"].astype(int)\n",
    "\n",
    "#Creating donor age variable, based on difference between last gift and first gift year\n",
    "dsc[\"donor_age\"] = dsc[\"last_gift\"] - dsc[\"first_gift\"]\n",
    "dsc_train[\"donor_age\"] = dsc_train[\"last_gift\"] - dsc_train[\"first_gift\"]\n",
    "\n",
    "#Making year variables as relative difference to 2013 campaign\n",
    "dsc[\"last_gift\"] = 2013 - dsc[\"last_gift\"]\n",
    "dsc[\"first_gift\"] = 2013 - dsc[\"first_gift\"]\n",
    "dsc_train[\"first_gift\"] = 2014 - dsc_train[\"first_gift\"]\n",
    "dsc_train[\"last_gift\"] = 2014 - dsc_train[\"last_gift\"]\n",
    "\n",
    "#Using frequency column to remove rows with NAs and transforming type to int\n",
    "dsc.dropna(subset=[\"frequency\"],inplace=True)\n",
    "dsc_train.dropna(subset=[\"frequency\"],inplace=True)\n",
    "dsc.frequency = dsc.frequency.astype(int)\n",
    "dsc_train.frequency = dsc_train.frequency.astype(int)"
   ]
  },
  {
   "cell_type": "code",
   "execution_count": 173,
   "metadata": {},
   "outputs": [],
   "source": [
    "#Clean DSC max_gift: replacing NA values with mean, changing type to float\n",
    "dsc.loc[dsc[\"max_gift\"].isna(),\"max_gift\"] = dsc.loc[dsc[\"max_gift\"].notna(),\"max_gift\"].mean()\n",
    "dsc[\"max_gift\"] = dsc[\"max_gift\"].astype(float)\n",
    "dsc_train.loc[dsc_train[\"max_gift\"].isna(),\"max_gift\"] = dsc_train.loc[dsc_train[\"max_gift\"].notna(),\"max_gift\"].mean()\n",
    "dsc_train[\"max_gift\"] = dsc_train[\"max_gift\"].astype(float)\n",
    "\n",
    "#Clean min_gift\n",
    "dsc.loc[dsc[\"min_gift\"].isna(),\"min_gift\"] = dsc.loc[dsc[\"min_gift\"].notna(),\"min_gift\"].mean()\n",
    "dsc[\"min_gift\"] = dsc[\"min_gift\"].astype(float)\n",
    "dsc_train.loc[dsc_train[\"min_gift\"].isna(),\"min_gift\"] = dsc_train.loc[dsc_train[\"min_gift\"].notna(),\"min_gift\"].mean()\n",
    "dsc_train[\"min_gift\"] = dsc_train[\"min_gift\"].astype(float)\n",
    "\n",
    "#Clean mean_gift\n",
    "dsc.loc[dsc[\"mean_gift\"].isna(),\"mean_gift\"] = dsc.loc[dsc[\"mean_gift\"].notna(),\"mean_gift\"].mean()\n",
    "dsc[\"mean_gift\"] = dsc[\"mean_gift\"].astype(float)\n",
    "dsc_train.loc[dsc_train[\"mean_gift\"].isna(),\"mean_gift\"] = dsc_train.loc[dsc_train[\"mean_gift\"].notna(),\"mean_gift\"].mean()\n",
    "dsc_train[\"mean_gift\"] = dsc_train[\"mean_gift\"].astype(float)"
   ]
  },
  {
   "cell_type": "code",
   "execution_count": 174,
   "metadata": {},
   "outputs": [],
   "source": [
    "#Replacing NA values for avg_datediff with mean for both datasets\n",
    "dsc.loc[dsc[\"avg_datediff\"].isna(),\"avg_datediff\"] = dsc.loc[dsc[\"avg_datediff\"].notna(),\"avg_datediff\"].mean()\n",
    "dsc_train.loc[dsc_train[\"avg_datediff\"].isna(),\"avg_datediff\"] = dsc_train.loc[dsc_train[\"avg_datediff\"].notna(),\"avg_datediff\"].mean()"
   ]
  },
  {
   "cell_type": "code",
   "execution_count": 175,
   "metadata": {},
   "outputs": [],
   "source": [
    "#Renaming gender types for both datasets\n",
    "dictionary = {\"M\": \"Male\", \"F\": \"Female\", \"C\": \"Couple\", \"S\": \"SoHo\", \"U\": \"Unknown\"}\n",
    "dsc = dsc.replace({\"gender\": dictionary})\n",
    "dsc_train = dsc_train.replace({\"gender\": dictionary})\n",
    "\n",
    "#Creating dummies for the gender variable, adding \"gender_\" as prefix\n",
    "gend_set = pd.get_dummies(dsc[\"gender\"])\n",
    "gend_set = gend_set.add_prefix('gender_')\n",
    "gend_t_set = pd.get_dummies(dsc_train[\"gender\"])\n",
    "gend_t_set = gend_t_set.add_prefix('gender_')\n",
    "\n",
    "#Adding gender column to both datasets \n",
    "dsc = pd.concat([dsc, gend_set], axis=1, join='inner')\n",
    "dsc_train = pd.concat([dsc_train, gend_t_set], axis=1, join='inner')"
   ]
  },
  {
   "cell_type": "code",
   "execution_count": 176,
   "metadata": {},
   "outputs": [],
   "source": [
    "#Creating dummies for the language variable\n",
    "dictionary = {\"N\": 1, \"F\": 0}\n",
    "dsc = dsc.replace({\"language\": dictionary})\n",
    "dsc_train = dsc_train.replace({\"language\": dictionary})"
   ]
  },
  {
   "cell_type": "code",
   "execution_count": 177,
   "metadata": {},
   "outputs": [],
   "source": [
    "#Binary y-variable for models based on the threshold value of a gift of over 35\n",
    "dsc['y'] = (dsc[\"amount\"] > 35) * 1\n",
    "dsc_train['y'] = (dsc_train[\"amount\"] > 35) * 1"
   ]
  },
  {
   "cell_type": "code",
   "execution_count": 178,
   "metadata": {},
   "outputs": [],
   "source": [
    "#Setting aside a dataframe copy for further use\n",
    "dsc_copy = dsc.copy()"
   ]
  },
  {
   "cell_type": "code",
   "execution_count": 179,
   "metadata": {},
   "outputs": [],
   "source": [
    "#Dropping redundant or non_usable columns to train the model\n",
    "dsc.drop(columns=['Province','zipcode','prov_Missing','gender_Unknown','gender', \\\n",
    "                  'donorID','r_quartile','f_quartile','m_quartile'],axis=1,inplace=True)\n",
    "dsc_train.drop(columns=['Province','zipcode','prov_Missing','gender_Unknown','gender', \\\n",
    "                        'donorID','r_quartile','f_quartile','m_quartile'], axis=1, inplace=True)"
   ]
  },
  {
   "cell_type": "code",
   "execution_count": 180,
   "metadata": {},
   "outputs": [
    {
     "data": {
      "text/plain": [
       "<matplotlib.axes._subplots.AxesSubplot at 0x246210e2710>"
      ]
     },
     "execution_count": 180,
     "metadata": {},
     "output_type": "execute_result"
    },
    {
     "data": {
      "image/png": "[encoded data removed]",
      "text/plain": [
       "<Figure size 720x720 with 2 Axes>"
      ]
     },
     "metadata": {
      "needs_background": "light"
     },
     "output_type": "display_data"
    }
   ],
   "source": [
    "import seaborn as sns\n",
    "import matplotlib.pyplot as plt\n",
    "\n",
    "#Examining variable correlation through a heatmap\n",
    "\n",
    "fig, ax = plt.subplots(figsize=(10,10))\n",
    "sns.heatmap(dsc_train[dsc_train.columns[~dsc_train.columns.isin(['y'])]].corr(),square=True,cmap='RdYlGn',ax=ax)"
   ]
  },
  {
   "cell_type": "code",
   "execution_count": 181,
   "metadata": {},
   "outputs": [],
   "source": [
    "#Splitting train set for validation\n",
    "from sklearn.model_selection import train_test_split\n",
    "\n",
    "X = dsc_train[dsc_train.columns[~dsc_train.columns.isin(['y'])]]\n",
    "y = dsc_train[['y']]\n",
    "X_train, X_valid, y_train, y_valid = train_test_split(X, y, test_size=0.2, stratify = y)"
   ]
  },
  {
   "cell_type": "code",
   "execution_count": 182,
   "metadata": {},
   "outputs": [],
   "source": [
    "#Saving a copy to use later for developing profile donor\n",
    "testSet  = dsc.copy()"
   ]
  },
  {
   "cell_type": "code",
   "execution_count": 183,
   "metadata": {},
   "outputs": [
    {
     "data": {
      "text/plain": [
       "<matplotlib.axes._subplots.AxesSubplot at 0x2461fb03048>"
      ]
     },
     "execution_count": 183,
     "metadata": {},
     "output_type": "execute_result"
    },
    {
     "data": {
      "image/png": "[encoded data removed]",
      "text/plain": [
       "<Figure size 1440x720 with 1 Axes>"
      ]
     },
     "metadata": {
      "needs_background": "light"
     },
     "output_type": "display_data"
    }
   ],
   "source": [
    "#Histogram of the amount in the trainin set shows skewed data\n",
    "dsc_train['amount'].hist(bins=100)"
   ]
  },
  {
   "cell_type": "code",
   "execution_count": 184,
   "metadata": {},
   "outputs": [],
   "source": [
    "#Upsampling observations with amount > 35 in training Set\n",
    "#Function resamp defined for iterating and optimizing model selection\n",
    "\n",
    "from sklearn.utils import resample\n",
    "\n",
    "def resamp(appended_rows = 22000, dsc_split = pd.concat([y_train, X_train],axis=1,join='inner').reset_index(drop=True)):\n",
    "    \n",
    "    global X_train\n",
    "    global y_train\n",
    "    \n",
    "    df_majority = dsc_split[dsc_split.y==0]\n",
    "    df_minority = dsc_split[dsc_split.y==1]\n",
    "    df_minority_upsampled = resample(df_minority, \n",
    "                                     replace=True,     \n",
    "                                     n_samples= appended_rows, #51,\n",
    "                                     )\n",
    "    df_upsampled = pd.concat([dsc_split, df_minority_upsampled])\n",
    "\n",
    "    y_train = pd.DataFrame(df_upsampled.y, columns = ['y'])\n",
    "    X_train = df_upsampled.drop('y', axis=1)\n",
    "    print(\"Data Resampled\", appended_rows)"
   ]
  },
  {
   "cell_type": "code",
   "execution_count": 185,
   "metadata": {},
   "outputs": [
    {
     "name": "stdout",
     "output_type": "stream",
     "text": [
      "Data Resampled 22000\n"
     ]
    }
   ],
   "source": [
    "resamp()"
   ]
  },
  {
   "cell_type": "code",
   "execution_count": 186,
   "metadata": {},
   "outputs": [
    {
     "data": {
      "text/plain": [
       "<matplotlib.axes._subplots.AxesSubplot at 0x246223912b0>"
      ]
     },
     "execution_count": 186,
     "metadata": {},
     "output_type": "execute_result"
    },
    {
     "data": {
      "image/png": "[encoded data removed]",
      "text/plain": [
       "<Figure size 1440x720 with 1 Axes>"
      ]
     },
     "metadata": {
      "needs_background": "light"
     },
     "output_type": "display_data"
    }
   ],
   "source": [
    "#Upsampled represenatation of the histogram \n",
    "X_train[\"amount\"].hist(bins=100)"
   ]
  },
  {
   "cell_type": "markdown",
   "metadata": {},
   "source": [
    "# Model Building\n",
    "The models shown below were the ones with best performance after hypertuning the parameters and using different resampling techniques (undersampling, resampling and SMOTE). \n",
    "The models we tested were: LogisticRegression, DecisionTreeClassifier, RandomForestClassifier, KNeighborsClassifier, XGBoost, GradientBoostingClassifier, SVM (SVC), NeuralNetworks (MLPClassifier and MLPRegressor), LinearRegression, Lasso, Ridge.\n",
    "The original code for testing models can be found in the Appendix."
   ]
  },
  {
   "cell_type": "code",
   "execution_count": 187,
   "metadata": {},
   "outputs": [],
   "source": [
    "from sklearn.linear_model    import LogisticRegression\n",
    "from sklearn.tree            import DecisionTreeClassifier\n",
    "from sklearn.ensemble        import RandomForestClassifier\n",
    "from sklearn.neighbors       import KNeighborsClassifier\n",
    "from sklearn.metrics         import accuracy_score\n",
    "from sklearn.metrics         import auc\n",
    "from sklearn.metrics         import f1_score, recall_score\n",
    "from sklearn.metrics         import roc_auc_score\n",
    "from sklearn.model_selection import cross_val_score\n",
    "from sklearn.metrics         import confusion_matrix\n",
    "\n",
    "tree         = DecisionTreeClassifier(max_depth=6) \n",
    "\n",
    "logistic     = LogisticRegression(solver = \"lbfgs\", max_iter= 400) \n",
    "\n",
    "randomForest = RandomForestClassifier(max_depth=3, max_leaf_nodes = 6)\n",
    "\n",
    "neighbors    = KNeighborsClassifier(weights = \"distance\", n_neighbors=4)\n",
    "\n",
    "models = {\n",
    "          #\"logistic\"     :logistic,\n",
    "          \"randomForest\" :randomForest\n",
    "         }"
   ]
  },
  {
   "cell_type": "code",
   "execution_count": 188,
   "metadata": {},
   "outputs": [],
   "source": [
    "#Variable nofeature created with columns to be excluded from features\n",
    "nofeature = [\"y\",\"amount\"]\n",
    "features = list(set(dsc.columns).difference(set(nofeature)))\n",
    "target= 'y'"
   ]
  },
  {
   "cell_type": "code",
   "execution_count": 189,
   "metadata": {},
   "outputs": [],
   "source": [
    "#Stepwise Feature Selection, as a function for iteration purposes and the possibility to select different evaluation metrics\n",
    "\n",
    "def stepwise(eval_metric = auc):\n",
    "    e_metrics = [\"auc\", \"f1score & missed_true\", \"f1score\"]\n",
    "    print(\"Evaluation based on: \", e_metrics[eval_metric - 1])\n",
    "    score_list = []\n",
    "    performances = {}\n",
    "\n",
    "    for model in models:\n",
    "        score_list = []\n",
    "        winners = []\n",
    "\n",
    "        for index, var in enumerate(features):\n",
    "            new_feat = []\n",
    "            for i in range(len(features)):\n",
    "                if features[i] not in winners:\n",
    "                    new_feat = winners.copy()\n",
    "                    new_feat.append(features[i])\n",
    "                    models[model].fit(X_train[new_feat], y_train[target])\n",
    "                    predictions   = models[model].predict(X_valid[new_feat])\n",
    "                    probabilities = pd.DataFrame(models[model].predict_proba(X_valid[new_feat]))[1]\n",
    "                    auc           = roc_auc_score(np.array(y_valid),np.array(probabilities))\n",
    "                    f1score       = f1_score(y_valid, predictions)\n",
    "                    specifity     = confusion_matrix(y_valid, predictions)[1][1]\n",
    "                    missed_true   = confusion_matrix(y_valid, predictions)[1][0]\n",
    "                    conf_prec     = confusion_matrix(y_valid, predictions)[1][1]/(confusion_matrix(y_valid, predictions)[1][1] \n",
    "                                                                          + confusion_matrix(y_valid, predictions)[0][1])\n",
    "                    \n",
    "                    #second parameter below (score_list[1]) is used for model evaluation\n",
    "                    score_list.append([features[i], auc, f1score, f1score, missed_true, conf_prec]) \n",
    "                    if len(score_list) > 1:\n",
    "                        if (eval_metric == 2):\n",
    "                            if (score_list[1][eval_metric] > score_list[0][eval_metric]) & (score_list[1][4] < score_list[0][4]):\n",
    "                                del(score_list[0])\n",
    "                            else:\n",
    "                                del(score_list[1])\n",
    "                        else:\n",
    "                            if (score_list[1][eval_metric] > score_list[0][eval_metric]):\n",
    "                                del(score_list[0])\n",
    "                            else:\n",
    "                                del(score_list[1])\n",
    "\n",
    "            if score_list[0][0] not in winners:\n",
    "                winners.append(score_list[0][0])\n",
    "            else:\n",
    "                continue\n",
    "\n",
    "        print(model, winners, \"\\n Conf_prec: \", score_list[0][2], \"\\n AUC: \", score_list[0][1])\n",
    "        performances[model] = {\"Features\":winners, \"AUC\": score_list[0][1], \"Conf_prec\": score_list[0][5], \"F1_Score\": score_list[0][3]} \n",
    "    perform = pd.DataFrame(performances)\n",
    "    return perform"
   ]
  },
  {
   "cell_type": "code",
   "execution_count": 190,
   "metadata": {},
   "outputs": [],
   "source": [
    "#Confusion Matrix\n",
    "\n",
    "def confusion(perform):\n",
    "    global perform_conf\n",
    "    global final_features\n",
    "    final_features = perform.iloc[len(step)-1,:]\n",
    "    performances_conf = {}\n",
    "\n",
    "    for i in range(0,len(final_features)):\n",
    "        model         = final_features.index[i]\n",
    "        models[model].fit(X_train[final_features[i]], y_train)\n",
    "        \n",
    "        predictions   = models[model].predict(testSet[final_features[i]])\n",
    "        \n",
    "        probabilities = pd.DataFrame(models[model].predict_proba(testSet[final_features[i]]))[1]\n",
    "        \n",
    "        auc           = roc_auc_score(np.array(testSet[target]),np.array(probabilities))\n",
    "        cv_score      = cross_val_score(models[model], X_train[final_features[i]], y_train, cv=5, scoring='roc_auc')\n",
    "        \n",
    "        f1score       = f1_score(testSet[target], predictions)\n",
    "        conf_prec     = confusion_matrix(testSet[target], predictions)[1][1]/(confusion_matrix(testSet[target], predictions)[1][1] \n",
    "                                                              + confusion_matrix(testSet[target], predictions)[0][1])\n",
    "        performances_conf[model] = predictions\n",
    "\n",
    "        print(model, final_features[i], \"\\n AUC\", auc, \"\\n Conf prec\", conf_prec, \"\\n CV Score: \", cv_score, \n",
    "              \"\\n\", confusion_matrix(testSet[target], predictions))\n",
    "        print(\"\")\n",
    "    perform_conf = pd.DataFrame(performances_conf)"
   ]
  },
  {
   "cell_type": "code",
   "execution_count": 191,
   "metadata": {},
   "outputs": [
    {
     "name": "stdout",
     "output_type": "stream",
     "text": [
      "Data Resampled 22000\n"
     ]
    }
   ],
   "source": [
    "resamp(22000)"
   ]
  },
  {
   "cell_type": "code",
   "execution_count": 192,
   "metadata": {
    "scrolled": true
   },
   "outputs": [
    {
     "name": "stdout",
     "output_type": "stream",
     "text": [
      "Evaluation based on:  f1score\n",
      "randomForest ['mean_gift', 'r_quartile_Medium', 'r_quartile_Lowest', 'prov_Namur', 'prov_Brussels', 'frequency', 'gender_Couple', 'prov_Liege'] \n",
      " Conf_prec:  0.06976744186046512 \n",
      " AUC:  0.6372469193835409\n"
     ]
    }
   ],
   "source": [
    "# 1 = auc, 2 = f1score & missed_true, 3 = f1score\n",
    "# F1Score was used in the final model\n",
    "step = stepwise(3)"
   ]
  },
  {
   "cell_type": "code",
   "execution_count": 193,
   "metadata": {},
   "outputs": [
    {
     "data": {
      "text/html": [
       "<div>\n",
       "<style scoped>\n",
       "    .dataframe tbody tr th:only-of-type {\n",
       "        vertical-align: middle;\n",
       "    }\n",
       "\n",
       "    .dataframe tbody tr th {\n",
       "        vertical-align: top;\n",
       "    }\n",
       "\n",
       "    .dataframe thead th {\n",
       "        text-align: right;\n",
       "    }\n",
       "</style>\n",
       "<table border=\"1\" class=\"dataframe\">\n",
       "  <thead>\n",
       "    <tr style=\"text-align: right;\">\n",
       "      <th></th>\n",
       "      <th>randomForest</th>\n",
       "    </tr>\n",
       "  </thead>\n",
       "  <tbody>\n",
       "    <tr>\n",
       "      <th>AUC</th>\n",
       "      <td>0.637247</td>\n",
       "    </tr>\n",
       "    <tr>\n",
       "      <th>Conf_prec</th>\n",
       "      <td>0.0410959</td>\n",
       "    </tr>\n",
       "    <tr>\n",
       "      <th>F1_Score</th>\n",
       "      <td>0.0697674</td>\n",
       "    </tr>\n",
       "    <tr>\n",
       "      <th>Features</th>\n",
       "      <td>[mean_gift, r_quartile_Medium, r_quartile_Lowe...</td>\n",
       "    </tr>\n",
       "  </tbody>\n",
       "</table>\n",
       "</div>"
      ],
      "text/plain": [
       "                                                randomForest\n",
       "AUC                                                 0.637247\n",
       "Conf_prec                                          0.0410959\n",
       "F1_Score                                           0.0697674\n",
       "Features   [mean_gift, r_quartile_Medium, r_quartile_Lowe..."
      ]
     },
     "execution_count": 193,
     "metadata": {},
     "output_type": "execute_result"
    }
   ],
   "source": [
    "step"
   ]
  },
  {
   "cell_type": "code",
   "execution_count": 194,
   "metadata": {},
   "outputs": [
    {
     "name": "stdout",
     "output_type": "stream",
     "text": [
      "randomForest ['mean_gift', 'r_quartile_Medium', 'r_quartile_Lowest', 'prov_Namur', 'prov_Brussels', 'frequency', 'gender_Couple', 'prov_Liege'] \n",
      " AUC 0.6719867481645428 \n",
      " Conf prec 0.011205887272119084 \n",
      " CV Score:  [0.6659276  0.68571245 0.69166567 0.68916036 0.68713882] \n",
      " [[19580  5912]\n",
      " [   85    67]]\n",
      "\n"
     ]
    }
   ],
   "source": [
    "confusion(step)"
   ]
  },
  {
   "cell_type": "code",
   "execution_count": 195,
   "metadata": {},
   "outputs": [],
   "source": [
    "#Profile of donor (target)\n",
    "\n",
    "chosen_model            = \"randomForest\"\n",
    "\n",
    "perform_conf[\"actual\"] = [\"0\"] * len(perform_conf)\n",
    "perform_conf[\"donorID\"] = [\"0\"] * len(perform_conf)\n",
    "perform_conf.actual = testSet[target].copy()\n",
    "perform_conf.donorID = dsc_copy[\"donorID\"]\n",
    "\n",
    "perform_conf_1 = perform_conf[perform_conf.actual == 1]\n",
    "\n",
    "mod_feat = final_features[0].copy()\n",
    "mod_feat.append(\"donorID\")\n",
    "mod_feat.append(\"y\")\n",
    "mod_feat.append(\"mean_gift\")\n",
    "mod_feat.append(\"max_gift\")\n",
    "mod_feat.append(\"amount\")\n",
    "mod_feat.append(\"first_gift\")\n",
    "mod_feat.append(\"last_gift\")\n",
    "mod_feat.append(\"Province\")\n",
    "mod_feat.append(\"gender\")\n",
    "mod_feat.append(\"donor_age\")\n",
    "df_mod_feat = dsc_copy.loc[:, mod_feat]\n",
    "\n",
    "left_table = perform_conf_1.copy()\n",
    "right_table = df_mod_feat.copy()\n",
    "\n",
    "left_table.reset_index(drop=True,inplace=True)\n",
    "right_table.reset_index(drop=True,inplace=True)\n",
    "\n",
    "profile = pd.merge(left_table, right_table, \n",
    "         how=\"left\", \n",
    "         left_on=\"donorID\", \n",
    "         right_on=\"donorID\")\n"
   ]
  },
  {
   "cell_type": "code",
   "execution_count": 196,
   "metadata": {},
   "outputs": [
    {
     "data": {
      "text/html": [
       "<div>\n",
       "<style scoped>\n",
       "    .dataframe tbody tr th:only-of-type {\n",
       "        vertical-align: middle;\n",
       "    }\n",
       "\n",
       "    .dataframe tbody tr th {\n",
       "        vertical-align: top;\n",
       "    }\n",
       "\n",
       "    .dataframe thead th {\n",
       "        text-align: right;\n",
       "    }\n",
       "</style>\n",
       "<table border=\"1\" class=\"dataframe\">\n",
       "  <thead>\n",
       "    <tr style=\"text-align: right;\">\n",
       "      <th></th>\n",
       "      <th>randomForest</th>\n",
       "      <th>actual</th>\n",
       "      <th>donorID</th>\n",
       "      <th>mean_gift</th>\n",
       "      <th>r_quartile_Medium</th>\n",
       "      <th>r_quartile_Lowest</th>\n",
       "      <th>prov_Namur</th>\n",
       "      <th>prov_Brussels</th>\n",
       "      <th>frequency</th>\n",
       "      <th>gender_Couple</th>\n",
       "      <th>prov_Liege</th>\n",
       "      <th>y</th>\n",
       "      <th>mean_gift</th>\n",
       "      <th>max_gift</th>\n",
       "      <th>amount</th>\n",
       "      <th>first_gift</th>\n",
       "      <th>last_gift</th>\n",
       "      <th>donor_age</th>\n",
       "    </tr>\n",
       "  </thead>\n",
       "  <tbody>\n",
       "    <tr>\n",
       "      <th>count</th>\n",
       "      <td>52.0</td>\n",
       "      <td>52.0</td>\n",
       "      <td>52.000000</td>\n",
       "      <td>52.000000</td>\n",
       "      <td>52.000000</td>\n",
       "      <td>52.000000</td>\n",
       "      <td>52.0</td>\n",
       "      <td>52.0</td>\n",
       "      <td>52.000000</td>\n",
       "      <td>52.000000</td>\n",
       "      <td>52.0</td>\n",
       "      <td>52.0</td>\n",
       "      <td>52.000000</td>\n",
       "      <td>52.000000</td>\n",
       "      <td>52.000000</td>\n",
       "      <td>52.000000</td>\n",
       "      <td>52.000000</td>\n",
       "      <td>52.000000</td>\n",
       "    </tr>\n",
       "    <tr>\n",
       "      <th>mean</th>\n",
       "      <td>1.0</td>\n",
       "      <td>1.0</td>\n",
       "      <td>121645.442308</td>\n",
       "      <td>34.664402</td>\n",
       "      <td>0.057692</td>\n",
       "      <td>0.615385</td>\n",
       "      <td>0.0</td>\n",
       "      <td>0.0</td>\n",
       "      <td>7.173077</td>\n",
       "      <td>0.230769</td>\n",
       "      <td>0.0</td>\n",
       "      <td>1.0</td>\n",
       "      <td>34.664402</td>\n",
       "      <td>41.302115</td>\n",
       "      <td>44.134615</td>\n",
       "      <td>9.461538</td>\n",
       "      <td>3.538462</td>\n",
       "      <td>5.923077</td>\n",
       "    </tr>\n",
       "    <tr>\n",
       "      <th>std</th>\n",
       "      <td>0.0</td>\n",
       "      <td>0.0</td>\n",
       "      <td>12489.551772</td>\n",
       "      <td>10.732103</td>\n",
       "      <td>0.235435</td>\n",
       "      <td>0.491251</td>\n",
       "      <td>0.0</td>\n",
       "      <td>0.0</td>\n",
       "      <td>7.275317</td>\n",
       "      <td>0.425436</td>\n",
       "      <td>0.0</td>\n",
       "      <td>0.0</td>\n",
       "      <td>10.732103</td>\n",
       "      <td>13.668084</td>\n",
       "      <td>11.911485</td>\n",
       "      <td>4.746357</td>\n",
       "      <td>1.787336</td>\n",
       "      <td>4.846046</td>\n",
       "    </tr>\n",
       "    <tr>\n",
       "      <th>min</th>\n",
       "      <td>1.0</td>\n",
       "      <td>1.0</td>\n",
       "      <td>102410.000000</td>\n",
       "      <td>20.625000</td>\n",
       "      <td>0.000000</td>\n",
       "      <td>0.000000</td>\n",
       "      <td>0.0</td>\n",
       "      <td>0.0</td>\n",
       "      <td>1.000000</td>\n",
       "      <td>0.000000</td>\n",
       "      <td>0.0</td>\n",
       "      <td>1.0</td>\n",
       "      <td>20.625000</td>\n",
       "      <td>30.000000</td>\n",
       "      <td>40.000000</td>\n",
       "      <td>2.000000</td>\n",
       "      <td>1.000000</td>\n",
       "      <td>0.000000</td>\n",
       "    </tr>\n",
       "    <tr>\n",
       "      <th>25%</th>\n",
       "      <td>1.0</td>\n",
       "      <td>1.0</td>\n",
       "      <td>111290.250000</td>\n",
       "      <td>30.000000</td>\n",
       "      <td>0.000000</td>\n",
       "      <td>0.000000</td>\n",
       "      <td>0.0</td>\n",
       "      <td>0.0</td>\n",
       "      <td>1.750000</td>\n",
       "      <td>0.000000</td>\n",
       "      <td>0.0</td>\n",
       "      <td>1.0</td>\n",
       "      <td>30.000000</td>\n",
       "      <td>32.230000</td>\n",
       "      <td>40.000000</td>\n",
       "      <td>6.000000</td>\n",
       "      <td>2.750000</td>\n",
       "      <td>0.750000</td>\n",
       "    </tr>\n",
       "    <tr>\n",
       "      <th>50%</th>\n",
       "      <td>1.0</td>\n",
       "      <td>1.0</td>\n",
       "      <td>122077.000000</td>\n",
       "      <td>31.655571</td>\n",
       "      <td>0.000000</td>\n",
       "      <td>1.000000</td>\n",
       "      <td>0.0</td>\n",
       "      <td>0.0</td>\n",
       "      <td>5.000000</td>\n",
       "      <td>0.000000</td>\n",
       "      <td>0.0</td>\n",
       "      <td>1.0</td>\n",
       "      <td>31.655571</td>\n",
       "      <td>39.500000</td>\n",
       "      <td>40.000000</td>\n",
       "      <td>10.000000</td>\n",
       "      <td>3.000000</td>\n",
       "      <td>6.000000</td>\n",
       "    </tr>\n",
       "    <tr>\n",
       "      <th>75%</th>\n",
       "      <td>1.0</td>\n",
       "      <td>1.0</td>\n",
       "      <td>131497.750000</td>\n",
       "      <td>39.000000</td>\n",
       "      <td>0.000000</td>\n",
       "      <td>1.000000</td>\n",
       "      <td>0.0</td>\n",
       "      <td>0.0</td>\n",
       "      <td>10.500000</td>\n",
       "      <td>0.000000</td>\n",
       "      <td>0.0</td>\n",
       "      <td>1.0</td>\n",
       "      <td>39.000000</td>\n",
       "      <td>41.000000</td>\n",
       "      <td>40.000000</td>\n",
       "      <td>13.000000</td>\n",
       "      <td>4.000000</td>\n",
       "      <td>9.000000</td>\n",
       "    </tr>\n",
       "    <tr>\n",
       "      <th>max</th>\n",
       "      <td>1.0</td>\n",
       "      <td>1.0</td>\n",
       "      <td>144371.000000</td>\n",
       "      <td>100.000000</td>\n",
       "      <td>1.000000</td>\n",
       "      <td>1.000000</td>\n",
       "      <td>0.0</td>\n",
       "      <td>0.0</td>\n",
       "      <td>41.000000</td>\n",
       "      <td>1.000000</td>\n",
       "      <td>0.0</td>\n",
       "      <td>1.0</td>\n",
       "      <td>100.000000</td>\n",
       "      <td>100.000000</td>\n",
       "      <td>100.000000</td>\n",
       "      <td>18.000000</td>\n",
       "      <td>12.000000</td>\n",
       "      <td>16.000000</td>\n",
       "    </tr>\n",
       "  </tbody>\n",
       "</table>\n",
       "</div>"
      ],
      "text/plain": [
       "       randomForest  actual        donorID   mean_gift  r_quartile_Medium  \\\n",
       "count          52.0    52.0      52.000000   52.000000          52.000000   \n",
       "mean            1.0     1.0  121645.442308   34.664402           0.057692   \n",
       "std             0.0     0.0   12489.551772   10.732103           0.235435   \n",
       "min             1.0     1.0  102410.000000   20.625000           0.000000   \n",
       "25%             1.0     1.0  111290.250000   30.000000           0.000000   \n",
       "50%             1.0     1.0  122077.000000   31.655571           0.000000   \n",
       "75%             1.0     1.0  131497.750000   39.000000           0.000000   \n",
       "max             1.0     1.0  144371.000000  100.000000           1.000000   \n",
       "\n",
       "       r_quartile_Lowest  prov_Namur  prov_Brussels  frequency  gender_Couple  \\\n",
       "count          52.000000        52.0           52.0  52.000000      52.000000   \n",
       "mean            0.615385         0.0            0.0   7.173077       0.230769   \n",
       "std             0.491251         0.0            0.0   7.275317       0.425436   \n",
       "min             0.000000         0.0            0.0   1.000000       0.000000   \n",
       "25%             0.000000         0.0            0.0   1.750000       0.000000   \n",
       "50%             1.000000         0.0            0.0   5.000000       0.000000   \n",
       "75%             1.000000         0.0            0.0  10.500000       0.000000   \n",
       "max             1.000000         0.0            0.0  41.000000       1.000000   \n",
       "\n",
       "       prov_Liege     y   mean_gift    max_gift      amount  first_gift  \\\n",
       "count        52.0  52.0   52.000000   52.000000   52.000000   52.000000   \n",
       "mean          0.0   1.0   34.664402   41.302115   44.134615    9.461538   \n",
       "std           0.0   0.0   10.732103   13.668084   11.911485    4.746357   \n",
       "min           0.0   1.0   20.625000   30.000000   40.000000    2.000000   \n",
       "25%           0.0   1.0   30.000000   32.230000   40.000000    6.000000   \n",
       "50%           0.0   1.0   31.655571   39.500000   40.000000   10.000000   \n",
       "75%           0.0   1.0   39.000000   41.000000   40.000000   13.000000   \n",
       "max           0.0   1.0  100.000000  100.000000  100.000000   18.000000   \n",
       "\n",
       "       last_gift  donor_age  \n",
       "count  52.000000  52.000000  \n",
       "mean    3.538462   5.923077  \n",
       "std     1.787336   4.846046  \n",
       "min     1.000000   0.000000  \n",
       "25%     2.750000   0.750000  \n",
       "50%     3.000000   6.000000  \n",
       "75%     4.000000   9.000000  \n",
       "max    12.000000  16.000000  "
      ]
     },
     "execution_count": 196,
     "metadata": {},
     "output_type": "execute_result"
    }
   ],
   "source": [
    "#Filtering profile dataframe to look at descriptive statistics\n",
    "profile[profile[chosen_model]==1].describe()"
   ]
  },
  {
   "cell_type": "code",
   "execution_count": 197,
   "metadata": {},
   "outputs": [],
   "source": [
    "#Importing package to visualize different decision tress from random forest model\n",
    "\n",
    "from sklearn.tree import export_graphviz\n",
    "\n",
    "chosen_features = final_features[0]\n",
    "\n",
    "i_tree = 0\n",
    "for tree_in_forest in randomForest.estimators_:\n",
    "    if (i_tree <1): #selecting one tree to display\n",
    "        export_graphviz(tree_in_forest,\n",
    "                        feature_names=chosen_features,\n",
    "                        filled=True,\n",
    "                        rounded=True, out_file=\"tree_best.dot\")"
   ]
  },
  {
   "cell_type": "markdown",
   "metadata": {},
   "source": [
    "# Tree Visualization\n",
    "![graphviz.png](graphviz.png)\n",
    "from IPython.display import Image\n",
    "Image(filename = 'C:/Users/pborchert/Documents/GitHub/DSC_Project/graphviz.png')"
   ]
  },
  {
   "cell_type": "markdown",
   "metadata": {},
   "source": [
    "# ROC Curve & Lift & Gains\n"
   ]
  },
  {
   "cell_type": "code",
   "execution_count": 198,
   "metadata": {},
   "outputs": [],
   "source": [
    "trainingSet = pd.concat([X_train,y_train],axis=1,join='inner')\n",
    "trainingSet.reset_index(drop=True,inplace=True)\n",
    "testSet     = dsc.copy()\n",
    "testSet.reset_index(drop=True,inplace=True)\n",
    "ValidationSet = pd.concat([X_valid,y_valid],axis=1,join='inner')\n",
    "ValidationSet.reset_index(drop=True,inplace=True)"
   ]
  },
  {
   "cell_type": "code",
   "execution_count": 199,
   "metadata": {},
   "outputs": [],
   "source": [
    "from ieseg import partition\n",
    "from ieseg import roc\n",
    "from ieseg import lift\n",
    "from ieseg import cumulativeResponse\n",
    "from ieseg import cumulativeGains\n",
    "\n",
    "features = list(step.loc['Features',:][0])\n",
    "\n",
    "#Loop for building lifts and gains \n",
    "\n",
    "lifts     = {}\n",
    "responses = {}\n",
    "gains     = {}\n",
    "data      = pd.DataFrame(testSet[target]).copy()\n",
    "\n",
    "for (index,model) in enumerate(models):\n",
    "    feature = step.loc[\"Features\", model]\n",
    "    models[model].fit(trainingSet[feature], trainingSet[target])\n",
    "    data[f\"proba {model}\"] = pd.DataFrame(models[model].predict_proba(testSet[feature]))[1]\n",
    "    lifts[model] = lift(dataSet = data, actuals = target, probability = \"proba \"+str(model))\n",
    "    responses[model] = cumulativeResponse(dataSet = data, actuals = target, probability = \"proba \"+str(model))\n",
    "    gains[model] = cumulativeGains(dataSet = data, actuals = target, probability = \"proba \"+str(model))\n",
    "\n",
    "lifts_randomforest=pd.DataFrame(lifts['randomForest'])\n",
    "lifts_randomforest.loc[:,'Model']=\"randomforest\"\n",
    "\n",
    "pysqldf(\"\"\"\n",
    "select*\n",
    "from lifts_randomforest\n",
    "\"\"\").to_csv(path + 'liftsofall.csv')\n",
    "\n",
    "gains_randomforest=pd.DataFrame(gains['randomForest'])\n",
    "gains_randomforest.loc[:,'Model']=\"randomforest\"\n",
    "\n",
    "pysqldf(\"\"\"\n",
    "select*\n",
    "from gains_randomforest\n",
    "\"\"\").to_csv(path + 'gainsofall.csv')\n",
    "\n",
    "responses_randomforest=pd.DataFrame(responses['randomForest'])\n",
    "responses_randomforest.loc[:,'Model']=\"randomforest\"\n",
    "\n",
    "pysqldf(\"\"\"\n",
    "select*\n",
    "from responses_randomforest\n",
    "\"\"\").to_csv(path+'responsesofall.csv')"
   ]
  },
  {
   "cell_type": "markdown",
   "metadata": {},
   "source": [
    "## ROC curve "
   ]
  },
  {
   "cell_type": "code",
   "execution_count": 200,
   "metadata": {},
   "outputs": [
    {
     "data": {
      "image/png": "[encoded data removed]",
      "text/plain": [
       "<Figure size 1440x720 with 1 Axes>"
      ]
     },
     "metadata": {
      "needs_background": "light"
     },
     "output_type": "display_data"
    }
   ],
   "source": [
    "for model in models:\n",
    "    models[model].fit(ValidationSet[step[model]['Features']], ValidationSet[target])\n",
    "    ValidationSet.loc[:, 'predictProba'] = pd.DataFrame(models[model].predict_proba(ValidationSet[step[model]['Features']]))[1]\n",
    "    rocTraining = roc(dataSet = ValidationSet, actuals = target, probability = \"predictProba\")\n",
    "    \n",
    "    pyplot.plot(rocTraining[\"False positive rate\"], rocTraining[\"True positive rate\"])\n",
    "    pyplot.plot([0, 1], [0, 1], 'k--')\n",
    "    pyplot.xlim([0.0, 1.0])\n",
    "    pyplot.ylim([0.0, 1.0])\n",
    "    pyplot.xlabel(\"False Positive Rate or (1 - Specifity)\")\n",
    "    pyplot.ylabel(\"True Positive Rate or (Sensitivity)\")\n",
    "    pyplot.title(\"Receiver Operating Characteristic \" + model + \"- \"+ str(step[model]['Features']) )\n",
    "    pyplot.rcParams[\"figure.figsize\"] = (20,10)\n",
    "    pyplot.show()"
   ]
  },
  {
   "cell_type": "code",
   "execution_count": 201,
   "metadata": {},
   "outputs": [
    {
     "data": {
      "image/png": "[encoded data removed]",
      "text/plain": [
       "<Figure size 1440x720 with 1 Axes>"
      ]
     },
     "metadata": {
      "needs_background": "light"
     },
     "output_type": "display_data"
    }
   ],
   "source": [
    "for model in models:\n",
    "    models[model].fit(testSet[step[model]['Features']], testSet[target])\n",
    "    testSet.loc[:, 'predictProba'] = pd.DataFrame(models[model].predict_proba(testSet[step[model]['Features']]))[1]\n",
    "    rocTraining = roc(dataSet = testSet, actuals = target, probability = \"predictProba\")\n",
    "    \n",
    "    pyplot.plot(rocTraining[\"False positive rate\"], rocTraining[\"True positive rate\"])\n",
    "    pyplot.plot([0, 1], [0, 1], 'k--')\n",
    "    pyplot.xlim([0.0, 1.0])\n",
    "    pyplot.ylim([0.0, 1.0])\n",
    "    pyplot.xlabel(\"False Positive Rate or (1 - Specifity)\")\n",
    "    pyplot.ylabel(\"True Positive Rate or (Sensitivity)\")\n",
    "    pyplot.title(\"Receiver Operating Characteristic \" + model + \"- \"+ str(step[model]['Features']) )\n",
    "    pyplot.rcParams[\"figure.figsize\"] = (20,10)\n",
    "    pyplot.show()"
   ]
  },
  {
   "cell_type": "markdown",
   "metadata": {},
   "source": [
    "# Appendix\n",
    "The commented code in the first cell below shows the original models we tested. The second cell is a loop to optimize model and resampling selection using previously defined functions and selected evaluation metrics.\n",
    "The third cell displays the different resampling techniques tried. The fourth cell displays different transformation techniques tried on continuous variables because of skewness."
   ]
  },
  {
   "cell_type": "code",
   "execution_count": 202,
   "metadata": {},
   "outputs": [],
   "source": [
    "# from sklearn.linear_model    import LogisticRegression\n",
    "# from sklearn.linear_model    import LinearRegression\n",
    "# from sklearn.linear_model    import Ridge\n",
    "# from sklearn.linear_model    import Lasso\n",
    "# from sklearn.tree            import DecisionTreeClassifier\n",
    "# from sklearn.ensemble        import RandomForestClassifier\n",
    "# from sklearn.ensemble        import GradientBoostingClassifier\n",
    "# from sklearn.svm             import SVC\n",
    "# from sklearn.neural_network  import MLPClassifier\n",
    "# from sklearn.neural_network  import MLPRegressor\n",
    "# from sklearn.neighbors       import KNeighborsClassifier\n",
    "# from sklearn.metrics         import accuracy_score\n",
    "# from sklearn.metrics         import auc\n",
    "# from sklearn.metrics         import roc_auc_score\n",
    "# from sklearn.model_selection import cross_val_score\n",
    "# import xgboost as xgboost\n",
    "\n",
    "# trainingSet = pd.concat([X_train,y_train],axis=1,join='inner').reset_index(drop=True)\n",
    "# testSet     = dsc\n",
    "# validationSet = pd.concat([X_valid,y_valid],axis=1,join='inner').reset_index(drop=True)\n",
    "\n",
    "# nofeature = [\"y\", \"mean_gift\",\"amount\"]\n",
    "# features = list(set(dsc.columns).difference(set(nofeature)))\n",
    "# target= 'y'\n",
    "\n",
    "# tree         = DecisionTreeClassifier(class_weight = \"balanced\", max_depth=6)\n",
    "# logistic     = LogisticRegression(solver = \"lbfgs\", class_weight = \"balanced\", max_iter= 200) # max_iter = 5000, penalty=\"l2\",lbfgs \n",
    "# linear       = LinearRegression()\n",
    "# ridge        = Ridge(alpha = 0.5, normalize=True)\n",
    "# lasso        = Lasso(alpha = 0.5, normalize=False)\n",
    "# randomForest = RandomForestClassifier(class_weight = \"balanced\", n_estimators = 100, max_depth=10)\n",
    "# boostedTree  = GradientBoostingClassifier(max_depth=10)\n",
    "# svm          = SVC(probability = True, class_weight='balanced', kernel='linear')\n",
    "# neuralNet    = MLPClassifier()\n",
    "# neuralNet_reg= MLPRegressor(solver=\"lbfgs\")\n",
    "# neighbors    = KNeighborsClassifier(weights = \"distance\", n_neighbors=9)\n",
    "# xgb          = xgboost.XGBClassifier(max_depth=3, n_estimators=300, learning_rate=0.05)\n",
    "\n",
    "# models = {\"tree\"         :tree,\n",
    "#           \"logistic\"     :logistic,\n",
    "#           \"linear\"       :linear,\n",
    "#           \"randomForest\" :randomForest,\n",
    "#           \"boostedTree\"  :boostedTree,\n",
    "#           \"svm\"          :svm,\n",
    "#           \"neuralNet\"    :neuralNet,\n",
    "#           \"neighbors\"    :neighbors,\n",
    "#           \"XGBoost\"      :xgb\n",
    "#          }"
   ]
  },
  {
   "cell_type": "code",
   "execution_count": 203,
   "metadata": {},
   "outputs": [],
   "source": [
    "#Model Selection Loop\n",
    "\n",
    "# resamp_list = [15500, 17000, 19000, 20000, 22000, 25000, 27500, 30000]\n",
    "\n",
    "# for rows in resamp_list:\n",
    "#     print(\"################################################################################################################\")\n",
    "#     resamp(rows)\n",
    "#     for eval_metric in range(2,4):\n",
    "#         step = stepwise(eval_metric)\n",
    "#         confusion(step)\n",
    "#         print(\"------------------------------------------------------------------------------------------------------------\")\n",
    "#     print(\"################################################################################################################\")"
   ]
  },
  {
   "cell_type": "code",
   "execution_count": 204,
   "metadata": {},
   "outputs": [],
   "source": [
    "#resampling observations with amount > 35 in training Set for imbalanced y variable\n",
    "#source: https://towardsdatascience.com/what-to-do-when-your-classification-dataset-is-imbalanced-6af031b12a36\n",
    "\n",
    "# from sklearn.utils import resample\n",
    "# dsc_split = pd.concat([y_train, X_train],axis=1,join='inner').reset_index(drop=True)\n",
    "# df_majority = dsc_split[dsc_split.y==0]\n",
    "# df_minority = dsc_split[dsc_split.y==1]\n",
    "# df_minority_upsampled = resample(df_minority, \n",
    "#                                  replace=True,     \n",
    "#                                  n_samples=len(df_minority), #to match majority class size\n",
    "#                                  )\n",
    "# df_upsampled = pd.concat([dsc_split, df_minority_upsampled])\n",
    "\n",
    "# y_train = pd.DataFrame(df_upsampled.y, columns = ['y'])\n",
    "# X_train = df_upsampled.drop('y', axis=1)\n",
    "\n",
    "# from imblearn.over_sampling import SMOTE\n",
    "\n",
    "# sm = SMOTE(random_state=27, ratio=1.0)\n",
    "# X_train, y_train = sm.fit_sample(X_train, y_train)\n",
    "# y_train = pd.DataFrame(y_train, columns = ['y'])\n",
    "# X_train = pd.DataFrame(X_train, columns = X.columns)\n",
    "\n",
    "# from sklearn.utils import resample\n",
    "# dsc_split = pd.concat([y_train, X_train],axis=1,join='inner').reset_index(drop=True)\n",
    "# df_majority = dsc_split[dsc_split.y==0]\n",
    "# df_minority = dsc_split[dsc_split.y==1]\n",
    "# downsampled = resample(df_majority, \n",
    "#                        replace=True, # sample with replacement\n",
    "#                        n_samples=len(df_minority), # match number in minority class\n",
    "#                        random_state=27) # reproducible results\n",
    "# # combine minority and downsampled majority\n",
    "# downsampled = pd.concat([df_minority, downsampled])\n",
    "# # check new class counts\n",
    "# y_train = downsampled[['y']]\n",
    "# X_train = downsampled.drop('y', axis=1)\n",
    "\n",
    "# y_train.y.value_counts()"
   ]
  },
  {
   "cell_type": "code",
   "execution_count": 205,
   "metadata": {},
   "outputs": [],
   "source": [
    "#Data Transformation for continuous skewed variables \n",
    "\n",
    "# #First scaling attempt\n",
    "# from sklearn.preprocessing import StandardScaler\n",
    "# scaler = StandardScaler()\n",
    "# X2 = dsc_train.loc[:,['max_gift', 'min_gift', 'first_gift','mean_gift',\n",
    "#       'last_gift', 'frequency', 'avg_datediff']].values\n",
    "# X3 = scaler.fit_transform(X2)\n",
    "# dsc_train[['max_gift', 'min_gift', 'first_gift','mean_gift',\n",
    "#        'last_gift', 'frequency', 'avg_datediff']] = X3\n",
    "# X2 = dsc.loc[:,['max_gift', 'min_gift', 'first_gift','mean_gift',\n",
    "#       'last_gift', 'frequency', 'avg_datediff']].values\n",
    "# X3 = scaler.fit_transform(X2)\n",
    "# dsc[['max_gift', 'min_gift', 'first_gift','mean_gift',\n",
    "#        'last_gift', 'frequency', 'avg_datediff']] = X3\n",
    "\n",
    "# #Second scaling attempt\n",
    "# from sklearn.preprocessing import scale\n",
    "# X2 = dsc_train.loc[:,['max_gift', 'min_gift', 'first_gift','mean_gift',\n",
    "#       'last_gift', 'frequency', 'avg_datediff']].values\n",
    "# X3 = scale(X2)\n",
    "# dsc_train[['max_gift', 'min_gift', 'first_gift','mean_gift',\n",
    "#        'last_gift', 'frequency', 'avg_datediff']] = X3\n",
    "# X2 = dsc.loc[:,['max_gift', 'min_gift', 'first_gift','mean_gift',\n",
    "#       'last_gift', 'frequency', 'avg_datediff']].values\n",
    "# X3 = scale(X2)\n",
    "# dsc[['max_gift', 'min_gift', 'first_gift','mean_gift',\n",
    "#        'last_gift', 'frequency', 'avg_datediff']] = X3\n",
    "\n",
    "# #Third scaling attempt: log transformation\n",
    "# X2 = np.log(dsc_train.loc[:,['max_gift', 'min_gift', 'first_gift','mean_gift',\n",
    "#       'last_gift', 'frequency', 'avg_datediff']]+1)\n",
    "# dsc_train[['max_gift', 'min_gift', 'first_gift','mean_gift',\n",
    "#        'last_gift', 'frequency', 'avg_datediff']] = X2\n",
    "# X2 = np.log(dsc.loc[:,['max_gift', 'min_gift', 'first_gift','mean_gift',\n",
    "#       'last_gift', 'frequency', 'avg_datediff']]+1)\n",
    "# dsc[['max_gift', 'min_gift', 'first_gift','mean_gift',\n",
    "#        'last_gift', 'frequency', 'avg_datediff']] = X2\n",
    "\n",
    "# #Fourth scaling attempt: Normalizing + Log\n",
    "# #Source: https://towardsdatascience.com/transforming-skewed-data-73da4c2d0d16\n",
    "# def normalize(column):\n",
    "#     upper = column.max()\n",
    "#     lower = column.min()\n",
    "#     y = (column - lower)/(upper-lower)\n",
    "#     return y\n",
    "# X2 = normalize(np.log(dsc_train.loc[:,['max_gift', 'min_gift', 'first_gift','mean_gift',\n",
    "#       'last_gift', 'frequency', 'avg_datediff']]+1))\n",
    "# dsc_train[['max_gift', 'min_gift', 'first_gift','mean_gift',\n",
    "#        'last_gift', 'frequency', 'avg_datediff']] = X2\n",
    "# X2 = normalize(np.log(dsc.loc[:,['max_gift', 'min_gift', 'first_gift','mean_gift',\n",
    "#       'last_gift', 'frequency', 'avg_datediff']]+1))\n",
    "# dsc[['max_gift', 'min_gift', 'first_gift','mean_gift',\n",
    "#        'last_gift', 'frequency', 'avg_datediff']] = X2\n",
    "\n",
    "# #Fifth scaling attempt: Yeo-Johnson transformation, as it supports non-positive values (0s, unlike boxcox)\n",
    "# from sklearn.preprocessing import power_transform\n",
    "# skew = ['max_gift', 'min_gift', 'first_gift','mean_gift', 'last_gift', 'frequency', 'avg_datediff']\n",
    "\n",
    "# for feat in skew:\n",
    "#     print(feat)\n",
    "#     dsc_train[[feat]] = power_transform(dsc_train.loc[:,[feat]], method='yeo-johnson')\n",
    "#     dsc[[feat]] = power_transform(dsc.loc[:,[feat]], method='yeo-johnson')"
   ]
  },
  {
   "cell_type": "markdown",
   "metadata": {},
   "source": [
    "# Model Continous (work in progress)"
   ]
  },
  {
   "cell_type": "code",
   "execution_count": 206,
   "metadata": {},
   "outputs": [],
   "source": [
    "#Continous PCA\n",
    "#testSet[target].hist(bins=100) \n",
    "#skewed: max_gift,min_gift,mean_gift,frequency,avg_datediff\n",
    "\n",
    "\n",
    "\n",
    "# from sklearn.decomposition import PCA\n",
    "# from sklearn.metrics       import mean_squared_error\n",
    "\n",
    "# testSet[target] = np.log(testSet[target] + 1)\n",
    "# trainingSet[target] = np.log(trainingSet[target] + 1)\n",
    "\n",
    "# def normalize(column):\n",
    "#     upper = column.max()\n",
    "#     lower = column.min()\n",
    "#     y = (column - lower)/(upper-lower)\n",
    "#     return y\n",
    "\n",
    "# models = {\"neuralNet_reg\":neuralNet_reg,\n",
    "#           \"linear\"       :linear,\n",
    "#           \"XGBoost\"      :xgb,\n",
    "#           \"Lasso\"        :lasso\n",
    "#          }\n",
    "\n",
    "# nofeature = [\"y\", \"amount\"]\n",
    "# features = list(set(dsc.columns).difference(set(nofeature)))\n",
    "# target= 'amount'\n",
    "# skew = ['max_gift','min_gift','mean_gift','frequency','avg_datediff']\n",
    "\n",
    "# for i in trainingSet[features]:\n",
    "#     if i in skew:\n",
    "#         trainingSet[i] = normalize(np.log(trainingSet[i]+1))\n",
    "#         testSet[i] = normalize(np.log(testSet[i]+1))\n",
    "\n",
    "\n",
    "# #pca = PCA()\n",
    "# #pca_train = pca.fit_transform(trainingSet[features].values)\n",
    "# #pca_test = pca.transform(testSet[features].values)\n",
    "\n",
    "# # exp_var_pca = pca.explained_variance_ratio_\n",
    "\n",
    "# # pca_train = pca_train\n",
    "# # pca_test = pca_test\n",
    "\n",
    "# skipped=[]\n",
    "# performances = {}\n",
    "\n",
    "# for model in models:\n",
    "#     #models[model].fit(pca_train, trainingSet[target])\n",
    "#     models[model].fit(trainingSet[features], trainingSet[target])\n",
    "#     print(f\"{model} has been trained successfully\")\n",
    "# for model in models:\n",
    "#     if model not in skipped:\n",
    "#         #predictions      = models[model].predict(pca_test)\n",
    "#         predictions      = models[model].predict(testSet[features])\n",
    "#         RMSE             = np.sqrt(mean_squared_error(testSet[target],predictions))\n",
    "#         mean_train       = np.mean(testSet[target])\n",
    "#         score            = RMSE / (testSet[target].max() - testSet[target].min())\n",
    "#         print(model, score)\n",
    "#         performances[model] = predictions\n",
    "# pd.DataFrame(performances).head()\n",
    "# perform = pd.DataFrame(performances)"
   ]
  },
  {
   "cell_type": "code",
   "execution_count": 207,
   "metadata": {},
   "outputs": [],
   "source": [
    "# perform[\"actual\"] = [\"0\"] * len(perform)\n",
    "# perform.actual = np.exp(testSet[target]) - 1\n",
    "\n",
    "# for mod in range(len(perform.columns)-1):\n",
    "#     x = perform[\"actual\"] - perform.iloc[:, mod]\n",
    "#     print(perform.columns[mod], \"\\t\", x.mean())\n",
    "# perform[perform.actual != 0].head(50)\n",
    "# #perform.head(50)"
   ]
  },
  {
   "cell_type": "code",
   "execution_count": 208,
   "metadata": {
    "scrolled": true
   },
   "outputs": [],
   "source": [
    "# for i in [\"neuralNet_reg\",\"linear\",\"XGBoost\",\"Ridge\"]:\n",
    "#     fig, ax = plt.subplots(figsize=(2,2))\n",
    "#     plt.scatter(perform[i],perform['actual'])\n",
    "#     plt.title(i)\n",
    "#     plt.show()"
   ]
  }
 ],
 "metadata": {
  "kernelspec": {
   "display_name": "Python 3",
   "language": "python",
   "name": "python3"
  },
  "language_info": {
   "codemirror_mode": {
    "name": "ipython",
    "version": 3
   },
   "file_extension": ".py",
   "mimetype": "text/x-python",
   "name": "python",
   "nbconvert_exporter": "python",
   "pygments_lexer": "ipython3",
   "version": "3.7.3"
  }
 },
 "nbformat": 4,
 "nbformat_minor": 2
}
